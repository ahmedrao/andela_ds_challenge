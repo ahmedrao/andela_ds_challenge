{
 "cells": [
  {
   "cell_type": "code",
   "execution_count": 1,
   "id": "3f0b2d44",
   "metadata": {},
   "outputs": [],
   "source": [
    "import pandas as pd\n",
    "import numpy as np\n",
    "from datetime import date, timedelta\n",
    "\n",
    "from sklearn.model_selection import train_test_split\n",
    "\n",
    "\n",
    "\n",
    "from sklearn.metrics import plot_confusion_matrix\n",
    "from sklearn.metrics import classification_report\n",
    "from sklearn import metrics\n",
    "from sklearn.metrics import accuracy_score\n",
    "import matplotlib.pyplot as plt\n",
    "import seaborn as sns\n",
    "\n",
    "from imblearn.under_sampling import RandomUnderSampler \n",
    "from imblearn.over_sampling import RandomOverSampler\n",
    "\n",
    "\n",
    "from sklearn.tree import DecisionTreeClassifier\n",
    "from sklearn.ensemble import RandomForestClassifier\n",
    "from xgboost import XGBClassifier\n",
    "from sklearn.utils.class_weight import compute_sample_weight\n",
    "\n",
    "from sklearn.model_selection import GridSearchCV"
   ]
  },
  {
   "cell_type": "code",
   "execution_count": 2,
   "id": "83d7e0f1",
   "metadata": {},
   "outputs": [],
   "source": [
    "app_record = pd.read_csv('application_record.csv')\n",
    "credit_record = pd.read_csv('credit_record.csv')"
   ]
  },
  {
   "cell_type": "code",
   "execution_count": 3,
   "id": "f1a0fe5c",
   "metadata": {},
   "outputs": [
    {
     "name": "stdout",
     "output_type": "stream",
     "text": [
      "Total Application record:  438557\n",
      "Total Credit record:  1048575\n"
     ]
    }
   ],
   "source": [
    "print('Total Application record: ', len(app_record))\n",
    "print('Total Credit record: ', len(credit_record))"
   ]
  },
  {
   "cell_type": "code",
   "execution_count": 4,
   "id": "feab75ed",
   "metadata": {},
   "outputs": [
    {
     "name": "stdout",
     "output_type": "stream",
     "text": [
      "Unique Client Number:  438510\n",
      "Unique Client Number: 45985\n"
     ]
    }
   ],
   "source": [
    "print('Unique Client Number: ', len(app_record.ID.unique()))\n",
    "print('Unique Client Number:', len(credit_record.ID.unique()))"
   ]
  },
  {
   "cell_type": "code",
   "execution_count": 5,
   "id": "42218329",
   "metadata": {},
   "outputs": [],
   "source": [
    "merged_df = app_record.merge(credit_record, how='inner', on=['ID'])"
   ]
  },
  {
   "cell_type": "code",
   "execution_count": 6,
   "id": "9b2644ed",
   "metadata": {},
   "outputs": [
    {
     "name": "stdout",
     "output_type": "stream",
     "text": [
      "Length of Merged datasets:  777715\n",
      "Common Client Number between both datasets:  36457\n"
     ]
    }
   ],
   "source": [
    "print('Length of Merged datasets: ', len(merged_df))\n",
    "print('Common Client Number between both datasets: ', len(merged_df.ID.unique()))"
   ]
  },
  {
   "cell_type": "code",
   "execution_count": 7,
   "id": "c026d739",
   "metadata": {},
   "outputs": [
    {
     "name": "stdout",
     "output_type": "stream",
     "text": [
      "Duplicates:  False\n"
     ]
    }
   ],
   "source": [
    "## check duplicates\n",
    "print('Duplicates: ', all(merged_df.duplicated()))"
   ]
  },
  {
   "cell_type": "markdown",
   "id": "4fa3b173",
   "metadata": {},
   "source": [
    "By Looking at the EDA reports, no duplicates are found in the data. \n",
    "I will now perform following steps:\n",
    "1. Data Cleaning\n",
    "2. Feature Engineering\n",
    "3. Data labeling\n",
    "4. Split Data in Training and Testing set\n",
    "5. Train Model and evaluate\n",
    "\n",
    "    i. Decision Tree\n",
    "    \n",
    "    ii. Random Forest\n",
    "    \n",
    "    iii. XGBoost"
   ]
  },
  {
   "cell_type": "markdown",
   "id": "81326d79",
   "metadata": {},
   "source": [
    "# 1. Data Cleaning"
   ]
  },
  {
   "cell_type": "code",
   "execution_count": 8,
   "id": "24965035",
   "metadata": {},
   "outputs": [
    {
     "data": {
      "text/plain": [
       "Index(['ID', 'CODE_GENDER', 'FLAG_OWN_CAR', 'FLAG_OWN_REALTY', 'CNT_CHILDREN',\n",
       "       'AMT_INCOME_TOTAL', 'NAME_INCOME_TYPE', 'NAME_EDUCATION_TYPE',\n",
       "       'NAME_FAMILY_STATUS', 'NAME_HOUSING_TYPE', 'DAYS_BIRTH',\n",
       "       'DAYS_EMPLOYED', 'FLAG_MOBIL', 'FLAG_WORK_PHONE', 'FLAG_PHONE',\n",
       "       'FLAG_EMAIL', 'OCCUPATION_TYPE', 'CNT_FAM_MEMBERS', 'MONTHS_BALANCE',\n",
       "       'STATUS'],\n",
       "      dtype='object')"
      ]
     },
     "execution_count": 8,
     "metadata": {},
     "output_type": "execute_result"
    }
   ],
   "source": [
    "merged_df.columns"
   ]
  },
  {
   "cell_type": "code",
   "execution_count": 9,
   "id": "534e92cb",
   "metadata": {},
   "outputs": [
    {
     "data": {
      "text/plain": [
       "OCCUPATION_TYPE        240048\n",
       "STATUS                      0\n",
       "NAME_FAMILY_STATUS          0\n",
       "CODE_GENDER                 0\n",
       "FLAG_OWN_CAR                0\n",
       "FLAG_OWN_REALTY             0\n",
       "CNT_CHILDREN                0\n",
       "AMT_INCOME_TOTAL            0\n",
       "NAME_INCOME_TYPE            0\n",
       "NAME_EDUCATION_TYPE         0\n",
       "NAME_HOUSING_TYPE           0\n",
       "MONTHS_BALANCE              0\n",
       "DAYS_BIRTH                  0\n",
       "DAYS_EMPLOYED               0\n",
       "FLAG_MOBIL                  0\n",
       "FLAG_WORK_PHONE             0\n",
       "FLAG_PHONE                  0\n",
       "FLAG_EMAIL                  0\n",
       "CNT_FAM_MEMBERS             0\n",
       "ID                          0\n",
       "dtype: int64"
      ]
     },
     "execution_count": 9,
     "metadata": {},
     "output_type": "execute_result"
    }
   ],
   "source": [
    "#check null\n",
    "merged_df.isnull().sum().sort_values(ascending=False)"
   ]
  },
  {
   "cell_type": "code",
   "execution_count": 10,
   "id": "d710025b",
   "metadata": {},
   "outputs": [
    {
     "data": {
      "text/plain": [
       "Laborers                 131572\n",
       "Core staff                77112\n",
       "Sales staff               70362\n",
       "Managers                  67738\n",
       "Drivers                   47678\n",
       "High skill tech staff     31768\n",
       "Accountants               27223\n",
       "Medicine staff            26691\n",
       "Cooking staff             13416\n",
       "Security staff            12400\n",
       "Cleaning staff            11399\n",
       "Private service staff      6714\n",
       "Low-skill Laborers         3623\n",
       "Secretaries                3149\n",
       "Waiters/barmen staff       2557\n",
       "HR staff                   1686\n",
       "IT staff                   1319\n",
       "Realty agents              1260\n",
       "Name: OCCUPATION_TYPE, dtype: int64"
      ]
     },
     "execution_count": 10,
     "metadata": {},
     "output_type": "execute_result"
    }
   ],
   "source": [
    "merged_df['OCCUPATION_TYPE'].value_counts()"
   ]
  },
  {
   "cell_type": "code",
   "execution_count": 11,
   "id": "c9ab491a",
   "metadata": {},
   "outputs": [],
   "source": [
    "# replacing missing occupation types to Others since we have already a lot of them\n",
    "merged_df['OCCUPATION_TYPE'].replace(np.nan, 'Others', inplace=True)"
   ]
  },
  {
   "cell_type": "code",
   "execution_count": 12,
   "id": "fd63968c",
   "metadata": {},
   "outputs": [
    {
     "data": {
      "text/plain": [
       "1    777715\n",
       "Name: FLAG_MOBIL, dtype: int64"
      ]
     },
     "execution_count": 12,
     "metadata": {},
     "output_type": "execute_result"
    }
   ],
   "source": [
    "merged_df['FLAG_MOBIL'].value_counts()"
   ]
  },
  {
   "cell_type": "code",
   "execution_count": 13,
   "id": "ef906823",
   "metadata": {},
   "outputs": [],
   "source": [
    "#drop FLAG_MOBIL as it contains only one constant value\n",
    "merged_df.drop(['FLAG_MOBIL'],axis=1,inplace=True)"
   ]
  },
  {
   "cell_type": "markdown",
   "id": "f623fca3",
   "metadata": {},
   "source": [
    "# 2. Feature Engineering"
   ]
  },
  {
   "cell_type": "code",
   "execution_count": 14,
   "id": "cfe9bcb1",
   "metadata": {},
   "outputs": [],
   "source": [
    "# calculate age from Birth day\n",
    "merged_df['AGE'] = round(merged_df.DAYS_BIRTH / -365.0,2)"
   ]
  },
  {
   "cell_type": "code",
   "execution_count": 15,
   "id": "30b4e2ea",
   "metadata": {},
   "outputs": [],
   "source": [
    "#check if applicant is employed?\n",
    "merged_df['IS_EMPLOYED'] = merged_df.apply(lambda x: 0 if x.DAYS_EMPLOYED > 0 else 1, axis=1)"
   ]
  },
  {
   "cell_type": "code",
   "execution_count": 16,
   "id": "99b01916",
   "metadata": {},
   "outputs": [],
   "source": [
    "#fetch start date of employement of an applicant\n",
    "merged_df['EMPLOYMENT_START_DT'] = merged_df.apply(lambda x: ((date.today() + timedelta(days=x.DAYS_EMPLOYED)).strftime('%Y-%m-%d')) \n",
    "                                             if x.DAYS_EMPLOYED <= 0 else None,axis=1)"
   ]
  },
  {
   "cell_type": "code",
   "execution_count": 17,
   "id": "e0c753a3",
   "metadata": {},
   "outputs": [],
   "source": [
    "#how long applicant is employed\n",
    "merged_df['EMPLOYMENT_YEARS'] = merged_df.apply(lambda x: round(x['DAYS_EMPLOYED'] / -365.0,2) \n",
    "                                                if x.DAYS_EMPLOYED < 0 else 0.0, axis=1)"
   ]
  },
  {
   "cell_type": "markdown",
   "id": "7c95f792",
   "metadata": {},
   "source": [
    "# 3. Data Labelling"
   ]
  },
  {
   "cell_type": "raw",
   "id": "b9b575ec",
   "metadata": {},
   "source": [
    "Credit Status\n",
    "\n",
    "0: 1-29 days past due \n",
    "1: 30-59 days past due \n",
    "2: 60-89 days overdue \n",
    "3: 90-119 days overdue \n",
    "4: 120-149 days overdue \n",
    "5: Overdue or bad debts, write-offs for more than 150 days \n",
    "C: paid off that month \n",
    "X: No loan for the month"
   ]
  },
  {
   "cell_type": "code",
   "execution_count": 18,
   "id": "81e7862d",
   "metadata": {},
   "outputs": [],
   "source": [
    "status_categories = {'C' : 'Good', 'X' : 'Good', \n",
    "                     '0' : 'Good', '1' : 'Good', \n",
    "                     '2' : 'Bad', '3' : 'Bad', \n",
    "                     '4' : 'Bad', '5' : 'Bad'}"
   ]
  },
  {
   "cell_type": "code",
   "execution_count": 19,
   "id": "567029c4",
   "metadata": {},
   "outputs": [
    {
     "data": {
      "text/plain": [
       "C    329536\n",
       "0    290654\n",
       "X    145950\n",
       "1      8747\n",
       "5      1527\n",
       "2       801\n",
       "3       286\n",
       "4       214\n",
       "Name: STATUS, dtype: int64"
      ]
     },
     "execution_count": 19,
     "metadata": {},
     "output_type": "execute_result"
    }
   ],
   "source": [
    "merged_df.STATUS.value_counts()"
   ]
  },
  {
   "cell_type": "code",
   "execution_count": 20,
   "id": "ca5a0016",
   "metadata": {},
   "outputs": [],
   "source": [
    "merged_df.replace({'STATUS' : status_categories}, inplace=True)"
   ]
  },
  {
   "cell_type": "code",
   "execution_count": 21,
   "id": "229aea14",
   "metadata": {},
   "outputs": [
    {
     "data": {
      "text/plain": [
       "Good    774887\n",
       "Bad       2828\n",
       "Name: STATUS, dtype: int64"
      ]
     },
     "execution_count": 21,
     "metadata": {},
     "output_type": "execute_result"
    }
   ],
   "source": [
    "merged_df.STATUS.value_counts()"
   ]
  },
  {
   "cell_type": "markdown",
   "id": "7dbbf352",
   "metadata": {},
   "source": [
    "0.36% are bad applicants"
   ]
  },
  {
   "cell_type": "code",
   "execution_count": 22,
   "id": "6416ca6d",
   "metadata": {},
   "outputs": [],
   "source": [
    "merged_df.loc[merged_df['STATUS'] == 'Bad', 'TARGET'] = 0\n",
    "merged_df.loc[merged_df['STATUS'] == 'Good', 'TARGET'] = 1"
   ]
  },
  {
   "cell_type": "code",
   "execution_count": 23,
   "id": "9cdc9c4b",
   "metadata": {},
   "outputs": [],
   "source": [
    "merged_df['TARGET'] = merged_df['TARGET'].astype(int)"
   ]
  },
  {
   "cell_type": "code",
   "execution_count": 24,
   "id": "d56e502e",
   "metadata": {},
   "outputs": [
    {
     "data": {
      "text/plain": [
       "1    774887\n",
       "0      2828\n",
       "Name: TARGET, dtype: int64"
      ]
     },
     "execution_count": 24,
     "metadata": {},
     "output_type": "execute_result"
    }
   ],
   "source": [
    "merged_df.TARGET.value_counts()"
   ]
  },
  {
   "cell_type": "code",
   "execution_count": 25,
   "id": "976cdf89",
   "metadata": {},
   "outputs": [],
   "source": [
    "categorical_features = [ 'CODE_GENDER', 'FLAG_OWN_CAR', 'FLAG_OWN_REALTY',\n",
    "                        'NAME_INCOME_TYPE', 'NAME_EDUCATION_TYPE','NAME_FAMILY_STATUS', \n",
    "                        'NAME_HOUSING_TYPE','OCCUPATION_TYPE']"
   ]
  },
  {
   "cell_type": "code",
   "execution_count": 26,
   "id": "0c2a28fd",
   "metadata": {},
   "outputs": [],
   "source": [
    "merged_df = pd.get_dummies(merged_df, columns = categorical_features, drop_first = True)"
   ]
  },
  {
   "cell_type": "code",
   "execution_count": 27,
   "id": "3f92e992",
   "metadata": {},
   "outputs": [
    {
     "data": {
      "text/plain": [
       "Index(['ID', 'CNT_CHILDREN', 'AMT_INCOME_TOTAL', 'DAYS_BIRTH', 'DAYS_EMPLOYED',\n",
       "       'FLAG_WORK_PHONE', 'FLAG_PHONE', 'FLAG_EMAIL', 'CNT_FAM_MEMBERS',\n",
       "       'MONTHS_BALANCE', 'STATUS', 'AGE', 'IS_EMPLOYED', 'EMPLOYMENT_START_DT',\n",
       "       'EMPLOYMENT_YEARS', 'TARGET', 'CODE_GENDER_M', 'FLAG_OWN_CAR_Y',\n",
       "       'FLAG_OWN_REALTY_Y', 'NAME_INCOME_TYPE_Pensioner',\n",
       "       'NAME_INCOME_TYPE_State servant', 'NAME_INCOME_TYPE_Student',\n",
       "       'NAME_INCOME_TYPE_Working', 'NAME_EDUCATION_TYPE_Higher education',\n",
       "       'NAME_EDUCATION_TYPE_Incomplete higher',\n",
       "       'NAME_EDUCATION_TYPE_Lower secondary',\n",
       "       'NAME_EDUCATION_TYPE_Secondary / secondary special',\n",
       "       'NAME_FAMILY_STATUS_Married', 'NAME_FAMILY_STATUS_Separated',\n",
       "       'NAME_FAMILY_STATUS_Single / not married', 'NAME_FAMILY_STATUS_Widow',\n",
       "       'NAME_HOUSING_TYPE_House / apartment',\n",
       "       'NAME_HOUSING_TYPE_Municipal apartment',\n",
       "       'NAME_HOUSING_TYPE_Office apartment',\n",
       "       'NAME_HOUSING_TYPE_Rented apartment', 'NAME_HOUSING_TYPE_With parents',\n",
       "       'OCCUPATION_TYPE_Cleaning staff', 'OCCUPATION_TYPE_Cooking staff',\n",
       "       'OCCUPATION_TYPE_Core staff', 'OCCUPATION_TYPE_Drivers',\n",
       "       'OCCUPATION_TYPE_HR staff', 'OCCUPATION_TYPE_High skill tech staff',\n",
       "       'OCCUPATION_TYPE_IT staff', 'OCCUPATION_TYPE_Laborers',\n",
       "       'OCCUPATION_TYPE_Low-skill Laborers', 'OCCUPATION_TYPE_Managers',\n",
       "       'OCCUPATION_TYPE_Medicine staff', 'OCCUPATION_TYPE_Others',\n",
       "       'OCCUPATION_TYPE_Private service staff',\n",
       "       'OCCUPATION_TYPE_Realty agents', 'OCCUPATION_TYPE_Sales staff',\n",
       "       'OCCUPATION_TYPE_Secretaries', 'OCCUPATION_TYPE_Security staff',\n",
       "       'OCCUPATION_TYPE_Waiters/barmen staff'],\n",
       "      dtype='object')"
      ]
     },
     "execution_count": 27,
     "metadata": {},
     "output_type": "execute_result"
    }
   ],
   "source": [
    "merged_df.columns"
   ]
  },
  {
   "cell_type": "code",
   "execution_count": 28,
   "id": "88bbd39f",
   "metadata": {},
   "outputs": [],
   "source": [
    "# Drop un-necessary columns\n",
    "merged_df.drop(['ID', 'EMPLOYMENT_START_DT', 'DAYS_BIRTH', 'STATUS', 'DAYS_EMPLOYED'],axis=1,inplace=True)"
   ]
  },
  {
   "cell_type": "code",
   "execution_count": 29,
   "id": "55286f0d",
   "metadata": {},
   "outputs": [],
   "source": [
    "x = merged_df.drop([\"TARGET\"], axis=1)\n",
    "y = merged_df[\"TARGET\"]"
   ]
  },
  {
   "cell_type": "markdown",
   "id": "5f08f7a9",
   "metadata": {},
   "source": [
    "# 4. Split Data in Training and Testing set"
   ]
  },
  {
   "cell_type": "code",
   "execution_count": 30,
   "id": "c152bf59",
   "metadata": {},
   "outputs": [],
   "source": [
    "X_train, X_test, y_train, y_test = train_test_split(x, y, test_size=0.2)\n",
    "# X_train, X_test, y_train, y_test = train_test_split(x,y,stratify=y,test_size = 0.10,random_state = 42)"
   ]
  },
  {
   "cell_type": "markdown",
   "id": "841eae71",
   "metadata": {},
   "source": [
    "# 5. Train Model and evaluate"
   ]
  },
  {
   "cell_type": "code",
   "execution_count": 31,
   "id": "e122ede9",
   "metadata": {},
   "outputs": [],
   "source": [
    "## re-use the same code for other model any initializing the model\n",
    "def train_model_and_evaluate(model, X_train, y_train, X_test, y_test):\n",
    "    model.fit(X_train, y_train)\n",
    "    y_pred = model.predict(X_test)\n",
    "    \n",
    "    test_acc = accuracy_score(y_test, y_pred)\n",
    "    print('The Accuracy for Test Set is: {}'.format(round(test_acc*100,2)))\n",
    "    \n",
    "    cnf_matrix = metrics.confusion_matrix(y_test, y_pred, labels=model.classes_)\n",
    "\n",
    "    plt.figure(figsize=(12,6))\n",
    "    plt.title('Confusion Matrix')\n",
    "    sns.heatmap(cnf_matrix, annot=True,fmt='d', cmap='Blues')\n",
    "    plt.ylabel('Actual Values')\n",
    "    plt.xlabel('Predicted Values')\n",
    "    \n",
    "    return True"
   ]
  },
  {
   "cell_type": "markdown",
   "id": "9ae8dba8",
   "metadata": {},
   "source": [
    "i. Decision Tree"
   ]
  },
  {
   "cell_type": "code",
   "execution_count": 32,
   "id": "65499589",
   "metadata": {},
   "outputs": [],
   "source": [
    "model = DecisionTreeClassifier()"
   ]
  },
  {
   "cell_type": "code",
   "execution_count": 33,
   "id": "d90d5129",
   "metadata": {},
   "outputs": [
    {
     "name": "stdout",
     "output_type": "stream",
     "text": [
      "The Accuracy for Test Set is: 99.56\n"
     ]
    },
    {
     "data": {
      "text/plain": [
       "True"
      ]
     },
     "execution_count": 33,
     "metadata": {},
     "output_type": "execute_result"
    },
    {
     "data": {
      "image/png": "[encoded data removed]",
      "text/plain": [
       "<Figure size 864x432 with 2 Axes>"
      ]
     },
     "metadata": {
      "needs_background": "light"
     },
     "output_type": "display_data"
    }
   ],
   "source": [
    "train_model_and_evaluate(model,X_train, y_train, X_test, y_test)"
   ]
  },
  {
   "cell_type": "markdown",
   "id": "643b39d5",
   "metadata": {},
   "source": [
    "# The problem here is that due to unbalance data the model can not correctly classify if the Applicant is Bad. Let's balance the data using Oversampling technique"
   ]
  },
  {
   "cell_type": "code",
   "execution_count": 34,
   "id": "6774adb8",
   "metadata": {},
   "outputs": [],
   "source": [
    "\n",
    "ros = RandomOverSampler(random_state=0)\n",
    "\n",
    "ros.fit(X_train, y_train)\n",
    "x_underesampled, y_underesampled = ros.fit_resample(x,y)\n"
   ]
  },
  {
   "cell_type": "code",
   "execution_count": 35,
   "id": "c405eb01",
   "metadata": {},
   "outputs": [
    {
     "data": {
      "text/plain": [
       "1    774887\n",
       "0    774887\n",
       "Name: TARGET, dtype: int64"
      ]
     },
     "execution_count": 35,
     "metadata": {},
     "output_type": "execute_result"
    }
   ],
   "source": [
    "y_underesampled.value_counts()"
   ]
  },
  {
   "cell_type": "code",
   "execution_count": 41,
   "id": "4e5d4231",
   "metadata": {},
   "outputs": [],
   "source": [
    "X_train, X_test, y_train, y_test = train_test_split(x_underesampled, y_underesampled, test_size=0.1, random_state = 0)"
   ]
  },
  {
   "cell_type": "code",
   "execution_count": 42,
   "id": "68a89c2a",
   "metadata": {},
   "outputs": [
    {
     "name": "stdout",
     "output_type": "stream",
     "text": [
      "0    77648\n",
      "1    77330\n",
      "Name: TARGET, dtype: int64\n",
      "1    697557\n",
      "0    697239\n",
      "Name: TARGET, dtype: int64\n"
     ]
    }
   ],
   "source": [
    "print(y_test.value_counts())\n",
    "print(y_train.value_counts())\n"
   ]
  },
  {
   "cell_type": "code",
   "execution_count": 48,
   "id": "89ca4226",
   "metadata": {},
   "outputs": [
    {
     "name": "stdout",
     "output_type": "stream",
     "text": [
      "The Accuracy for Test Set is: 99.75\n"
     ]
    },
    {
     "data": {
      "text/plain": [
       "True"
      ]
     },
     "execution_count": 48,
     "metadata": {},
     "output_type": "execute_result"
    },
    {
     "data": {
      "image/png": "[encoded data removed]",
      "text/plain": [
       "<Figure size 864x432 with 2 Axes>"
      ]
     },
     "metadata": {
      "needs_background": "light"
     },
     "output_type": "display_data"
    }
   ],
   "source": [
    "model = DecisionTreeClassifier()\n",
    "train_model_and_evaluate(model, X_train, y_train, X_test, y_test)"
   ]
  },
  {
   "cell_type": "markdown",
   "id": "c9a94002",
   "metadata": {},
   "source": [
    "ii. Random Forest"
   ]
  },
  {
   "cell_type": "code",
   "execution_count": 44,
   "id": "8eb5906d",
   "metadata": {},
   "outputs": [],
   "source": [
    "model = RandomForestClassifier(random_state=0)"
   ]
  },
  {
   "cell_type": "code",
   "execution_count": 45,
   "id": "4f3d5327",
   "metadata": {},
   "outputs": [
    {
     "name": "stdout",
     "output_type": "stream",
     "text": [
      "The Accuracy for Test Set is: 99.75\n"
     ]
    },
    {
     "data": {
      "text/plain": [
       "True"
      ]
     },
     "execution_count": 45,
     "metadata": {},
     "output_type": "execute_result"
    },
    {
     "data": {
      "image/png": "[encoded data removed]",
      "text/plain": [
       "<Figure size 864x432 with 2 Axes>"
      ]
     },
     "metadata": {
      "needs_background": "light"
     },
     "output_type": "display_data"
    }
   ],
   "source": [
    "train_model_and_evaluate(model, X_train, y_train, X_test, y_test)"
   ]
  },
  {
   "cell_type": "markdown",
   "id": "3b3f8fc2",
   "metadata": {},
   "source": [
    "iii. XGBoost"
   ]
  },
  {
   "cell_type": "code",
   "execution_count": 46,
   "id": "9fddf11c",
   "metadata": {},
   "outputs": [],
   "source": [
    "model = XGBClassifier(random_state=0, alpha = 0.5, eta=0.1)"
   ]
  },
  {
   "cell_type": "code",
   "execution_count": 47,
   "id": "74825229",
   "metadata": {},
   "outputs": [
    {
     "name": "stderr",
     "output_type": "stream",
     "text": [
      "C:\\Users\\904244\\.conda\\envs\\credit_card\\lib\\site-packages\\xgboost\\sklearn.py:1224: UserWarning: The use of label encoder in XGBClassifier is deprecated and will be removed in a future release. To remove this warning, do the following: 1) Pass option use_label_encoder=False when constructing XGBClassifier object; and 2) Encode your labels (y) as integers starting with 0, i.e. 0, 1, 2, ..., [num_class - 1].\n",
      "  warnings.warn(label_encoder_deprecation_msg, UserWarning)\n"
     ]
    },
    {
     "name": "stdout",
     "output_type": "stream",
     "text": [
      "[00:59:20] WARNING: C:/Users/Administrator/workspace/xgboost-win64_release_1.5.1/src/learner.cc:1115: Starting in XGBoost 1.3.0, the default evaluation metric used with the objective 'binary:logistic' was changed from 'error' to 'logloss'. Explicitly set eval_metric if you'd like to restore the old behavior.\n",
      "The Accuracy for Test Set is: 93.09\n"
     ]
    },
    {
     "data": {
      "text/plain": [
       "True"
      ]
     },
     "execution_count": 47,
     "metadata": {},
     "output_type": "execute_result"
    },
    {
     "data": {
      "image/png": "[encoded data removed]",
      "text/plain": [
       "<Figure size 864x432 with 2 Axes>"
      ]
     },
     "metadata": {
      "needs_background": "light"
     },
     "output_type": "display_data"
    }
   ],
   "source": [
    "train_model_and_evaluate(model, X_train, y_train, X_test, y_test)"
   ]
  },
  {
   "cell_type": "markdown",
   "id": "3e941a6b",
   "metadata": {},
   "source": [
    "# Decision Tree and Random Forest performed well since they classified the Bad applicants correctly."
   ]
  },
  {
   "cell_type": "code",
   "execution_count": null,
   "id": "a60feaff",
   "metadata": {},
   "outputs": [],
   "source": []
  }
 ],
 "metadata": {
  "kernelspec": {
   "display_name": "Python 3",
   "language": "python",
   "name": "python3"
  },
  "language_info": {
   "codemirror_mode": {
    "name": "ipython",
    "version": 3
   },
   "file_extension": ".py",
   "mimetype": "text/x-python",
   "name": "python",
   "nbconvert_exporter": "python",
   "pygments_lexer": "ipython3",
   "version": "3.6.13"
  }
 },
 "nbformat": 4,
 "nbformat_minor": 5
}
