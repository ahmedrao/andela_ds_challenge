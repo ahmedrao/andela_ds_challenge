{
 "cells": [
  {
   "cell_type": "code",
   "execution_count": 42,
   "id": "fae374f6",
   "metadata": {},
   "outputs": [],
   "source": [
    "import pandas as pd\n",
    "import numpy as np\n",
    "from pylab import *\n"
   ]
  },
  {
   "cell_type": "code",
   "execution_count": 2,
   "id": "fcdf8059",
   "metadata": {},
   "outputs": [],
   "source": [
    "app_record = pd.read_csv('application_record.csv')"
   ]
  },
  {
   "cell_type": "code",
   "execution_count": 4,
   "id": "12c9f906",
   "metadata": {},
   "outputs": [
    {
     "data": {
      "text/plain": [
       "Index(['ID', 'CODE_GENDER', 'FLAG_OWN_CAR', 'FLAG_OWN_REALTY', 'CNT_CHILDREN',\n",
       "       'AMT_INCOME_TOTAL', 'NAME_INCOME_TYPE', 'NAME_EDUCATION_TYPE',\n",
       "       'NAME_FAMILY_STATUS', 'NAME_HOUSING_TYPE', 'DAYS_BIRTH',\n",
       "       'DAYS_EMPLOYED', 'FLAG_MOBIL', 'FLAG_WORK_PHONE', 'FLAG_PHONE',\n",
       "       'FLAG_EMAIL', 'OCCUPATION_TYPE', 'CNT_FAM_MEMBERS'],\n",
       "      dtype='object')"
      ]
     },
     "execution_count": 4,
     "metadata": {},
     "output_type": "execute_result"
    }
   ],
   "source": [
    "app_record.columns"
   ]
  },
  {
   "cell_type": "code",
   "execution_count": 6,
   "id": "59e5f8c2",
   "metadata": {},
   "outputs": [
    {
     "data": {
      "text/plain": [
       "0     304071\n",
       "1      88527\n",
       "2      39884\n",
       "3       5430\n",
       "4        486\n",
       "5        133\n",
       "7          9\n",
       "9          5\n",
       "12         4\n",
       "6          4\n",
       "14         3\n",
       "19         1\n",
       "Name: CNT_CHILDREN, dtype: int64"
      ]
     },
     "execution_count": 6,
     "metadata": {},
     "output_type": "execute_result"
    }
   ],
   "source": [
    "app_record.CNT_CHILDREN.value_counts()"
   ]
  },
  {
   "cell_type": "code",
   "execution_count": 43,
   "id": "aad140eb",
   "metadata": {},
   "outputs": [
    {
     "data": {
      "image/png": "[encoded data removed]",
      "text/plain": [
       "<Figure size 432x288 with 1 Axes>"
      ]
     },
     "metadata": {
      "needs_background": "light"
     },
     "output_type": "display_data"
    }
   ],
   "source": [
    "r = boxplot(app_record.CNT_CHILDREN)"
   ]
  },
  {
   "cell_type": "code",
   "execution_count": 13,
   "id": "cd160108",
   "metadata": {},
   "outputs": [],
   "source": [
    "app_record['AGE'] = round(app_record.DAYS_BIRTH / -365.0,2)"
   ]
  },
  {
   "cell_type": "code",
   "execution_count": 15,
   "id": "0c1f8e34",
   "metadata": {},
   "outputs": [
    {
     "data": {
      "text/plain": [
       "(20.52, 69.04)"
      ]
     },
     "execution_count": 15,
     "metadata": {},
     "output_type": "execute_result"
    }
   ],
   "source": [
    "app_record['AGE'].min(),app_record['AGE'].max()"
   ]
  },
  {
   "cell_type": "code",
   "execution_count": 16,
   "id": "e4fd32d9",
   "metadata": {},
   "outputs": [
    {
     "data": {
      "text/plain": [
       "37.78    278\n",
       "38.84    270\n",
       "43.56    254\n",
       "32.07    250\n",
       "39.45    248\n",
       "        ... \n",
       "21.64      1\n",
       "66.84      1\n",
       "21.11      1\n",
       "68.93      1\n",
       "21.27      1\n",
       "Name: AGE, Length: 4673, dtype: int64"
      ]
     },
     "execution_count": 16,
     "metadata": {},
     "output_type": "execute_result"
    }
   ],
   "source": [
    "app_record['AGE'].value_counts()"
   ]
  },
  {
   "cell_type": "code",
   "execution_count": 26,
   "id": "6edece83",
   "metadata": {},
   "outputs": [],
   "source": [
    "app_record['IS_EMPLOYED'] = app_record.apply(lambda x: 0 if x.DAYS_EMPLOYED > 0 else 1, axis=1)"
   ]
  },
  {
   "cell_type": "code",
   "execution_count": 27,
   "id": "99157720",
   "metadata": {},
   "outputs": [
    {
     "data": {
      "text/plain": [
       "1    363228\n",
       "0     75329\n",
       "Name: IS_EMPLOYED, dtype: int64"
      ]
     },
     "execution_count": 27,
     "metadata": {},
     "output_type": "execute_result"
    }
   ],
   "source": [
    "app_record['IS_EMPLOYED'].value_counts()"
   ]
  },
  {
   "cell_type": "code",
   "execution_count": 31,
   "id": "a7d39682",
   "metadata": {},
   "outputs": [
    {
     "data": {
      "text/plain": [
       "array([1], dtype=int64)"
      ]
     },
     "execution_count": 31,
     "metadata": {},
     "output_type": "execute_result"
    }
   ],
   "source": [
    "app_record[app_record['FLAG_PHONE'] == 0].FLAG_MOBIL.unique()"
   ]
  },
  {
   "cell_type": "code",
   "execution_count": 36,
   "id": "4030b5e6",
   "metadata": {},
   "outputs": [],
   "source": [
    "## SEEMS LIKE AN ANOMALY --- NEED TO CONFIRM"
   ]
  },
  {
   "cell_type": "code",
   "execution_count": 35,
   "id": "8a5ace85",
   "metadata": {},
   "outputs": [
    {
     "data": {
      "text/plain": [
       "0    271264\n",
       "1     41089\n",
       "Name: FLAG_WORK_PHONE, dtype: int64"
      ]
     },
     "execution_count": 35,
     "metadata": {},
     "output_type": "execute_result"
    }
   ],
   "source": [
    "app_record[app_record['FLAG_PHONE'] == 0].FLAG_WORK_PHONE.value_counts()"
   ]
  },
  {
   "cell_type": "code",
   "execution_count": null,
   "id": "98289887",
   "metadata": {},
   "outputs": [],
   "source": [
    "app_record[app_record['FLAG_PHONE'] == 0].FLAG_WORK_PHONE.value_counts()"
   ]
  },
  {
   "cell_type": "code",
   "execution_count": 33,
   "id": "044bdea1",
   "metadata": {},
   "outputs": [
    {
     "data": {
      "text/plain": [
       "array([1], dtype=int64)"
      ]
     },
     "execution_count": 33,
     "metadata": {},
     "output_type": "execute_result"
    }
   ],
   "source": [
    "app_record[(app_record['FLAG_PHONE'] == 0) & (app_record['FLAG_WORK_PHONE'] == 1)].FLAG_MOBIL.unique()"
   ]
  },
  {
   "cell_type": "code",
   "execution_count": 41,
   "id": "5e97b67b",
   "metadata": {},
   "outputs": [
    {
     "data": {
      "text/plain": [
       "array([1], dtype=int64)"
      ]
     },
     "execution_count": 41,
     "metadata": {},
     "output_type": "execute_result"
    }
   ],
   "source": [
    "app_record['FLAG_MOBIL'].unique()"
   ]
  },
  {
   "cell_type": "code",
   "execution_count": 38,
   "id": "2e849c14",
   "metadata": {},
   "outputs": [],
   "source": [
    "credit_record = pd.read_csv('credit_record.csv')"
   ]
  },
  {
   "cell_type": "code",
   "execution_count": 39,
   "id": "f0d12511",
   "metadata": {},
   "outputs": [
    {
     "data": {
      "text/plain": [
       "-1     34436\n",
       "-2     34209\n",
       " 0     33856\n",
       "-3     33854\n",
       "-4     33365\n",
       "       ...  \n",
       "-56     2109\n",
       "-57     1649\n",
       "-58     1255\n",
       "-59      820\n",
       "-60      415\n",
       "Name: MONTHS_BALANCE, Length: 61, dtype: int64"
      ]
     },
     "execution_count": 39,
     "metadata": {},
     "output_type": "execute_result"
    }
   ],
   "source": [
    "credit_record.MONTHS_BALANCE.value_counts()"
   ]
  },
  {
   "cell_type": "markdown",
   "id": "f23afe4c",
   "metadata": {},
   "source": [
    "# Do some bi variate analysis"
   ]
  }
 ],
 "metadata": {
  "kernelspec": {
   "display_name": "Python 3",
   "language": "python",
   "name": "python3"
  },
  "language_info": {
   "codemirror_mode": {
    "name": "ipython",
    "version": 3
   },
   "file_extension": ".py",
   "mimetype": "text/x-python",
   "name": "python",
   "nbconvert_exporter": "python",
   "pygments_lexer": "ipython3",
   "version": "3.6.13"
  }
 },
 "nbformat": 4,
 "nbformat_minor": 5
}
